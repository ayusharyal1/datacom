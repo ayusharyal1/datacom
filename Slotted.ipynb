{
 "cells": [
  {
   "cell_type": "code",
   "execution_count": 19,
   "metadata": {
    "collapsed": true
   },
   "outputs": [],
   "source": [
    "import numpy as np\n",
    "import pandas as pd\n",
    "import random\n",
    "%matplotlib inline\n",
    "import plotly.plotly as py\n",
    "import plotly.tools as tls\n",
    "import plotly.graph_objs as go\n",
    "from credentials import *\n",
    "import cufflinks as cf\n",
    "py.sign_in('ayusharyal','qp72jcx5ac')"
   ]
  },
  {
   "cell_type": "code",
   "execution_count": 20,
   "metadata": {
    "collapsed": true
   },
   "outputs": [],
   "source": [
    "#Generates N random numbers between 0 and 1\n",
    "def getStartTimes(N):\n",
    "    startTimes= [random.random() for _ in range(0, N)]\n",
    "    startTimes.sort()\n",
    "    return startTimes\n",
    "\n",
    "# Generate values between 0.1 to 2 (0.1 each step)\n",
    "def getX():\n",
    "    x=[]\n",
    "    i = 0.1\n",
    "    while i <= 2.0:\n",
    "        x.append(round(i,1))\n",
    "        i += 0.1\n",
    "    return x\n",
    "\n",
    "# Divide the range 0 to 1 into slots of length x/N each\n",
    "def getSlots(slotSize):\n",
    "    x=[]\n",
    "    i = 0\n",
    "    while(1):\n",
    "        i= i+slotSize\n",
    "        if (i>=1):\n",
    "            break\n",
    "        x.append(i)\n",
    "    return x"
   ]
  },
  {
   "cell_type": "code",
   "execution_count": 21,
   "metadata": {
    "collapsed": false
   },
   "outputs": [],
   "source": [
    "def runSlottedAloha(N,startTimes,x):\n",
    "    throughputs=[]\n",
    "    for eachX in x:\n",
    "        slots= getSlots(eachX/N)\n",
    "        startTimes= getStartTimes(N)\n",
    "        slotCnt=0\n",
    "        for i in range(len(slots)-1):\n",
    "            pktCnt=0\n",
    "            for eachStartTime in startTimes:\n",
    "                if (eachStartTime > slots[i]) and (eachStartTime<slots[i+1]):\n",
    "                    pktCnt=pktCnt+1\n",
    "            if (pktCnt==1):\n",
    "                slotCnt=slotCnt+1\n",
    "        throughput= slotCnt*eachX/N\n",
    "        throughputs.append(throughput)        \n",
    "    return throughputs  "
   ]
  },
  {
   "cell_type": "code",
   "execution_count": 25,
   "metadata": {
    "collapsed": false
   },
   "outputs": [],
   "source": [
    "N=2000\n",
    "startTimes= getStartTimes(N) \n",
    "x=getX()\n",
    "throughputs=runSlottedAloha(N,startTimes,x)"
   ]
  },
  {
   "cell_type": "code",
   "execution_count": 26,
   "metadata": {
    "collapsed": false
   },
   "outputs": [
    {
     "data": {
      "text/html": [
       "<iframe id=\"igraph\" scrolling=\"no\" style=\"border:none;\"seamless=\"seamless\" src=\"https://plot.ly/~ayusharyal/419.embed\" height=\"525px\" width=\"100%\"></iframe>"
      ],
      "text/plain": [
       "<plotly.tools.PlotlyDisplay object>"
      ]
     },
     "execution_count": 26,
     "metadata": {},
     "output_type": "execute_result"
    }
   ],
   "source": [
    "df = pd.DataFrame({'x':x , 'y': throughputs})\n",
    "data = [\n",
    "        go.Scatter(\n",
    "            x=df['x'], # assign x as the dataframe column 'x'\n",
    "            y=df['y']\n",
    "        )\n",
    "]\n",
    "layout = go.Layout(\n",
    "    title='Plot for Slotted Aloha',\n",
    "    xaxis=dict(\n",
    "        title='G',\n",
    "        titlefont=dict(\n",
    "            family='Courier New, monospace',\n",
    "            size=18,\n",
    "            color='#7f7f7f'\n",
    "        )\n",
    "    ),\n",
    "    yaxis=dict(\n",
    "        title='Throughput',\n",
    "        titlefont=dict(\n",
    "            family='Courier New, monospace',\n",
    "            size=18,\n",
    "            color='#7f7f7f'\n",
    "        )\n",
    "    )\n",
    ")\n",
    "fig1 = go.Figure(data=data, layout=layout)\n",
    "py.iplot(fig1)"
   ]
  },
  {
   "cell_type": "code",
   "execution_count": null,
   "metadata": {
    "collapsed": true
   },
   "outputs": [],
   "source": []
  }
 ],
 "metadata": {
  "kernelspec": {
   "display_name": "Python 2",
   "language": "python",
   "name": "python2"
  },
  "language_info": {
   "codemirror_mode": {
    "name": "ipython",
    "version": 2
   },
   "file_extension": ".py",
   "mimetype": "text/x-python",
   "name": "python",
   "nbconvert_exporter": "python",
   "pygments_lexer": "ipython2",
   "version": "2.7.6"
  }
 },
 "nbformat": 4,
 "nbformat_minor": 0
}
