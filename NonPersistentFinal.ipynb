{
 "cells": [
  {
   "cell_type": "code",
   "execution_count": 18,
   "metadata": {
    "collapsed": true
   },
   "outputs": [],
   "source": [
    "import random\n",
    "import matplotlib.pyplot as plt\n",
    "import pandas as pd\n",
    "%matplotlib inline\n",
    "import plotly.plotly as py\n",
    "import plotly.tools as tls\n",
    "import plotly.graph_objs as go\n",
    "from credentials import *\n",
    "import cufflinks as cf\n",
    "py.sign_in('ayusharyal','qp72jcx5ac')"
   ]
  },
  {
   "cell_type": "code",
   "execution_count": 19,
   "metadata": {
    "collapsed": true
   },
   "outputs": [],
   "source": [
    "# If medium is idle => Transmit\n",
    "# Else wait certain time and retransmit\n",
    "# Minimum time to detect collision = time for signal to propagate"
   ]
  },
  {
   "cell_type": "code",
   "execution_count": 20,
   "metadata": {
    "collapsed": true
   },
   "outputs": [],
   "source": [
    "def getG(min,max,step):\n",
    "    x=[]\n",
    "    i = min\n",
    "    while i <= max:\n",
    "        x.append(i)\n",
    "        i += 0.1\n",
    "    return x\n",
    "\n",
    "def getStartTimes(N):\n",
    "    startTimes= [random.random() for _ in range(0, N)]\n",
    "    startTimes.sort()\n",
    "    return startTimes"
   ]
  },
  {
   "cell_type": "code",
   "execution_count": 25,
   "metadata": {
    "collapsed": false,
    "scrolled": true
   },
   "outputs": [],
   "source": [
    "N=1000\n",
    "pduration=0.001\n",
    "td=0.000001\n",
    "G= getG(0,5,0.1)\n",
    "throughputs=[]\n",
    "randomdelay=0.002\n",
    "for x in G:\n",
    "    startTimes=getStartTimes(N)\n",
    "    #print len(startTimes)\n",
    "    sucess=0\n",
    "    throughput=0\n",
    "    i=0\n",
    "    while i!= len(startTimes)-1:\n",
    "        if startTimes[i]+(x/N)+td < startTimes[i+1]:\n",
    "            i=i+1\n",
    "            sucess=sucess+1\n",
    "        else:\n",
    "            startTimes[i+1]=startTimes[i+1]+randomdelay\n",
    "            if startTimes[i+1] > 1:\n",
    "                startTimes.remove(startTimes[i+1])\n",
    "            else:\n",
    "                startTimes=sorted(startTimes)\n",
    "    throughput=sucess*x/N\n",
    "    throughputs.append(throughput)"
   ]
  },
  {
   "cell_type": "code",
   "execution_count": 26,
   "metadata": {
    "collapsed": false
   },
   "outputs": [
    {
     "data": {
      "text/html": [
       "<iframe id=\"igraph\" scrolling=\"no\" style=\"border:none;\"seamless=\"seamless\" src=\"https://plot.ly/~ayusharyal/480.embed\" height=\"525px\" width=\"100%\"></iframe>"
      ],
      "text/plain": [
       "<plotly.tools.PlotlyDisplay object>"
      ]
     },
     "execution_count": 26,
     "metadata": {},
     "output_type": "execute_result"
    }
   ],
   "source": [
    "df1 = pd.DataFrame({'x':G , 'y': throughputs})\n",
    "data = [\n",
    "        go.Scatter(\n",
    "            x=df1['x'], # assign x as the dataframe column 'x'\n",
    "            y=df1['y']\n",
    "        )\n",
    "]\n",
    "layout = go.Layout(\n",
    "    title='Plot for NonPersistent ',\n",
    "    xaxis=dict(\n",
    "        title='G',\n",
    "        titlefont=dict(\n",
    "            family='Courier New, monospace',\n",
    "            size=18,\n",
    "            color='#7f7f7f'\n",
    "        )\n",
    "    ),\n",
    "    yaxis=dict(\n",
    "        title='Throughput',\n",
    "        titlefont=dict(\n",
    "            family='Courier New, monospace',\n",
    "            size=18,\n",
    "            color='#7f7f7f'\n",
    "        )\n",
    "    )\n",
    ")\n",
    "fig = go.Figure(data=data, layout=layout)\n",
    "py.iplot(fig)"
   ]
  },
  {
   "cell_type": "code",
   "execution_count": null,
   "metadata": {
    "collapsed": true
   },
   "outputs": [],
   "source": []
  }
 ],
 "metadata": {
  "kernelspec": {
   "display_name": "Python 2",
   "language": "python",
   "name": "python2"
  },
  "language_info": {
   "codemirror_mode": {
    "name": "ipython",
    "version": 2
   },
   "file_extension": ".py",
   "mimetype": "text/x-python",
   "name": "python",
   "nbconvert_exporter": "python",
   "pygments_lexer": "ipython2",
   "version": "2.7.6"
  }
 },
 "nbformat": 4,
 "nbformat_minor": 0
}
