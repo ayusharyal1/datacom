{
 "cells": [
  {
   "cell_type": "code",
   "execution_count": 1,
   "metadata": {
    "collapsed": true
   },
   "outputs": [],
   "source": [
    "import random\n",
    "import matplotlib.pyplot as plt\n",
    "import pandas as pd\n",
    "%matplotlib inline\n",
    "import plotly.plotly as py\n",
    "import plotly.tools as tls\n",
    "import plotly.graph_objs as go\n",
    "from credentials import *\n",
    "import cufflinks as cf\n",
    "py.sign_in('ayusharyal','qp72jcx5ac')"
   ]
  },
  {
   "cell_type": "code",
   "execution_count": 2,
   "metadata": {
    "collapsed": false
   },
   "outputs": [],
   "source": [
    "class Pkt:\n",
    "    def __init__(self,pno,sTime,ackTime,ack):\n",
    "        self.pno = pno #Packet Number\n",
    "        self.sTime = sTime # Sent Time\n",
    "        self.ackTime = ackTime # Ack Time Expected\n",
    "        self.ack = ack # Ack Flag"
   ]
  },
  {
   "cell_type": "code",
   "execution_count": 3,
   "metadata": {
    "collapsed": true
   },
   "outputs": [],
   "source": [
    "def createPkt(pno):\n",
    "    p = Pkt(pno,0,0,False)\n",
    "    return p\n",
    "\n",
    "def printPkts(pkts):\n",
    "    for p in pkts:\n",
    "        print p.pno,p.sTime,p.ackTime,p.ack\n",
    "\n",
    "def printPkt(p):\n",
    "    print p.pno,p.sTime,p.ackTime,p.ack"
   ]
  },
  {
   "cell_type": "code",
   "execution_count": 4,
   "metadata": {
    "collapsed": false
   },
   "outputs": [],
   "source": [
    "windowSizeList=range(4,40)\n",
    "error=1/1000.0\n",
    "rtt=20\n",
    "T=100000\n",
    "\n",
    "throughputs=[]\n",
    "for windowSize in windowSizeList:\n",
    "    currentPkts=[]\n",
    "    windowStart=0\n",
    "    windowEnd=0\n",
    "    t=0\n",
    "    #Get First Set of Packets \n",
    "    for t in range(0,windowSize):\n",
    "        p = createPkt(t)\n",
    "        currentPkts.append(p)\n",
    "    windowEnd=windowSize-1\n",
    "    # printPkts(currentPkts)\n",
    "    # print t\n",
    "    #Check acknowledgement and proceed to move window or resend packets\n",
    "    while  t< T:\n",
    "        #print t\n",
    "        for pkt in currentPkts:\n",
    "            if t== pkt.ackTime:\n",
    "                if random.uniform(0,1) > error:\n",
    "                    pkt.ack=True\n",
    "                else: #resend packet\n",
    "                    pkt.sTime=t\n",
    "                    pkt.ackTime=t+rtt\n",
    "            if pkt.sTime==0:\n",
    "                #print pkt.pno\n",
    "                pkt.sTime=t\n",
    "                pkt.ackTime=t+rtt+currentPkts.index(pkt)\n",
    "            # if first packet is acknowlegded\n",
    "        checkFirstPkt=currentPkts[0].ack\n",
    "        while(checkFirstPkt):\n",
    "            currentPkts.remove(currentPkts[0])\n",
    "            currentPkts.append(createPkt(windowEnd+1))\n",
    "            windowEnd=windowEnd+1\n",
    "            checkFirstPkt=currentPkts[0].ack\n",
    "        t+=1\n",
    "    # print windowEnd\n",
    "    throughputs.append(windowEnd)\n"
   ]
  },
  {
   "cell_type": "code",
   "execution_count": 5,
   "metadata": {
    "collapsed": false
   },
   "outputs": [
    {
     "data": {
      "text/html": [
       "<iframe id=\"igraph\" scrolling=\"no\" style=\"border:none;\"seamless=\"seamless\" src=\"https://plot.ly/~ayusharyal/478.embed\" height=\"525px\" width=\"100%\"></iframe>"
      ],
      "text/plain": [
       "<plotly.tools.PlotlyDisplay object>"
      ]
     },
     "execution_count": 5,
     "metadata": {},
     "output_type": "execute_result"
    }
   ],
   "source": [
    "df = pd.DataFrame({'x':windowSizeList , 'y': throughputs})\n",
    "data = [\n",
    "        go.Scatter(\n",
    "            x=df['x'], # assign x as the dataframe column 'x'\n",
    "            y=df['y']\n",
    "        )\n",
    "]\n",
    "layout = go.Layout(\n",
    "    title='Plot for SRP ',\n",
    "    xaxis=dict(\n",
    "        title='Window Size',\n",
    "        titlefont=dict(\n",
    "            family='Courier New, monospace',\n",
    "            size=18,\n",
    "            color='#7f7f7f'\n",
    "        )\n",
    "    ),\n",
    "    yaxis=dict(\n",
    "        title='Throughput',\n",
    "        titlefont=dict(\n",
    "            family='Courier New, monospace',\n",
    "            size=18,\n",
    "            color='#7f7f7f'\n",
    "        )\n",
    "    )\n",
    ")\n",
    "fig = go.Figure(data=data, layout=layout)\n",
    "py.iplot(fig)"
   ]
  },
  {
   "cell_type": "code",
   "execution_count": null,
   "metadata": {
    "collapsed": true
   },
   "outputs": [],
   "source": []
  }
 ],
 "metadata": {
  "kernelspec": {
   "display_name": "Python 2",
   "language": "python",
   "name": "python2"
  },
  "language_info": {
   "codemirror_mode": {
    "name": "ipython",
    "version": 2
   },
   "file_extension": ".py",
   "mimetype": "text/x-python",
   "name": "python",
   "nbconvert_exporter": "python",
   "pygments_lexer": "ipython2",
   "version": "2.7.6"
  }
 },
 "nbformat": 4,
 "nbformat_minor": 0
}
